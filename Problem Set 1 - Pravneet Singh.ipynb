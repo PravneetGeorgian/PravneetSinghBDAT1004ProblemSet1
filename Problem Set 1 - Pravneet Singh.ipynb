{
 "cells": [
  {
   "cell_type": "markdown",
   "id": "3f9619b0",
   "metadata": {},
   "source": [
    "<h1><center>Problem Set 1</center></h1>\n",
    "\n",
    "<h1><font color='#004b87'><center>BDAT 1004</center></font></h1>\n",
    "<h3><center>Pravneet Singh</center></h3>"
   ]
  },
  {
   "cell_type": "markdown",
   "id": "c07a23a3",
   "metadata": {},
   "source": [
    "<h3>Question 1)</h3>\n",
    "\n",
    "What data type is each of the following (evaluate where necessary)?"
   ]
  },
  {
   "cell_type": "markdown",
   "id": "2d85a875",
   "metadata": {},
   "source": [
    "5<br>\n",
    "5.0<br>\n",
    "5 > 1<br>\n",
    "'5'<br>\n",
    "5 * 2<br>\n",
    "'5' * 2<br>\n",
    "'5' + '2'<br>\n",
    "5 / 2<br>\n",
    "5 % 2<br>\n",
    "{5, 2, 1}<br>\n",
    "5 == 3<br>\n",
    "Pi (the number)<br>"
   ]
  },
  {
   "cell_type": "code",
   "execution_count": 1,
   "id": "ab65b542",
   "metadata": {},
   "outputs": [
    {
     "name": "stdout",
     "output_type": "stream",
     "text": [
      "Data type of 5 is: <class 'int'>\n",
      "Data type of 5.0 is: <class 'float'>\n",
      "Data type of 5>1 is: <class 'bool'>\n",
      "Data type of '5' is: <class 'str'>\n",
      "Data type of 5*2 is: <class 'int'>\n",
      "Data type of '5'*2 is: <class 'str'>\n",
      "Data type of '5'+'2' is: <class 'str'>\n",
      "Data type of 5/2 is: <class 'float'>\n",
      "Data type of 5%2 is: <class 'int'>\n",
      "Data type of {5,2,1} is: <class 'set'>\n",
      "Data type of 5==3 is: <class 'bool'>\n"
     ]
    }
   ],
   "source": [
    "x=5\n",
    "print(\"Data type of 5 is:\", type(x))\n",
    "y= 5.0\n",
    "print(\"Data type of 5.0 is:\", type(y))\n",
    "a=5 > 1\n",
    "print(\"Data type of 5>1 is:\", type(a))\n",
    "b='5'\n",
    "print(\"Data type of '5' is:\", type(b))\n",
    "c=5*2\n",
    "print(\"Data type of 5*2 is:\", type(c))\n",
    "d='5' * 2\n",
    "print(\"Data type of '5'*2 is:\", type(d))\n",
    "e='5' + '2'\n",
    "print(\"Data type of '5'+'2' is:\", type(e))\n",
    "f= 5/2\n",
    "print(\"Data type of 5/2 is:\", type(f))\n",
    "g=5%2\n",
    "print(\"Data type of 5%2 is:\", type(g))\n",
    "h={5, 2, 1}\n",
    "print(\"Data type of {5,2,1} is:\", type(h))\n",
    "i=5 == 3\n",
    "print(\"Data type of 5==3 is:\", type(i))\n"
   ]
  },
  {
   "cell_type": "markdown",
   "id": "0aeecc12",
   "metadata": {},
   "source": [
    "<h4>Answers</h4>\n",
    "    \n",
    "5 - INT<br>\n",
    "5.0 - FLOAT<br>\n",
    "5 > 1 - BOOLEAN<br>\n",
    "'5' - STRING<br>\n",
    "5 * 2 - INT<br>\n",
    "'5' * 2 - STRING<br>\n",
    "'5' + '2' - STRING<br>\n",
    "5 / 2 - FLOAT<br>\n",
    "5 % 2 - INT<br>\n",
    "{5, 2, 1} - SET<br>\n",
    "5 == 3 - BOOLEAN<br>\n",
    "Pi (the number) - FLOAT"
   ]
  },
  {
   "cell_type": "markdown",
   "id": "18490b84",
   "metadata": {},
   "source": [
    "<h3>Question 2)</h3>\n",
    "\n",
    "Write (and evaluate) python expressions that answer these questions:<br>\n",
    "\n",
    "a. How many letters are there in 'Supercalifragilisticexpialidocious'?<br>\n",
    "b. Does 'Supercalifragilisticexpialidocious' contain 'ice' as a substring? <br>\n",
    "c. Which of the following words is the longest:\n",
    "Supercalifragilisticexpialidocious, Honorificabilitudinitatibus, or\n",
    "Bababadalgharaghtakamminarronnkonn? <br>\n",
    "d. Which composer comes first in the dictionary: 'Berlioz', 'Borodin', 'Brian',\n",
    "'Bartok', 'Bellini', 'Buxtehude', 'Bernstein'. Which one comes last?"
   ]
  },
  {
   "cell_type": "code",
   "execution_count": 2,
   "id": "ca5a5e2a",
   "metadata": {},
   "outputs": [
    {
     "name": "stdout",
     "output_type": "stream",
     "text": [
      "a. Number of letters are 34\n",
      "b. Yes as return of boolean is: True\n",
      "c. Lengths are 34 27 34\n",
      "so the longest words are both : Supercalifragilisticexpialidocious and Bababadalgharaghtakamminarronnkonn\n",
      "d. The alphabetical order is : ['Bartok', 'Bellini', 'Berlioz', 'Bernstein', 'Borodin', 'Brian', 'Buxtehude']\n",
      "so the first word is 'Bartok' and the last is 'Buxtehude'\n"
     ]
    }
   ],
   "source": [
    "a = len('Supercalifragilisticexpialidocious')\n",
    "b = 'ice' in 'Supercalifragilisticexpialidocious'\n",
    "c = len('Supercalifragilisticexpialidocious')\n",
    "d = len('Honorificabilitudinitatibus')\n",
    "e = len('Bababadalgharaghtakamminarronnkonn')\n",
    "f = [ 'Berlioz', 'Borodin', 'Brian', 'Bartok', 'Bellini', 'Buxtehude', 'Bernstein']\n",
    "f.sort()\n",
    "\n",
    "print(\"a. Number of letters are\",a)\n",
    "print(\"b. Yes as return of boolean is:\",b)\n",
    "print(\"c. Lengths are\", c,d,e) \n",
    "print(\"so the longest words are both : Supercalifragilisticexpialidocious and Bababadalgharaghtakamminarronnkonn\")\n",
    "print(\"d. The alphabetical order is :\",f)\n",
    "print(\"so the first word is 'Bartok' and the last is 'Buxtehude'\")"
   ]
  },
  {
   "cell_type": "markdown",
   "id": "bad2dc97",
   "metadata": {},
   "source": [
    "<h3>Question 3)</h3>\n",
    "\n",
    "Implement function triangleArea(a,b,c) that takes as input the lengths of the 3\n",
    "sides of a triangle and returns the area of the triangle. \n",
    "\n",
    "By Heron's formula, the area\n",
    "of a triangle with side lengths a, b, and c is\n",
    "s(s - a)(s -b)(s -c)\n",
    ", where\n",
    "s = (a+b+c)/2. "
   ]
  },
  {
   "cell_type": "code",
   "execution_count": 3,
   "id": "3b405abd",
   "metadata": {},
   "outputs": [
    {
     "name": "stdout",
     "output_type": "stream",
     "text": [
      "Enter side 1: 20\n",
      "Enter side 2: 20\n",
      "Enter side 3: 20\n",
      "Surface area of the triangle is : 173.20508075688772\n"
     ]
    }
   ],
   "source": [
    "def triangleArea(a,b,c): # Finding area of triangle by given sides of that respective triangle\n",
    "    p = a+b+c\n",
    "    s=p/2\n",
    "    A = (s*(s-a)*(s-b)*(s-c))**0.5\n",
    "    return A \n",
    "    \n",
    "x = float(input('Enter side 1: '))\n",
    "y = float(input('Enter side 2: '))\n",
    "z = float(input('Enter side 3: '))         \n",
    "G =triangleArea(x,y,z)\n",
    "print(\"Surface area of the triangle is : \"+ str(G))"
   ]
  },
  {
   "cell_type": "markdown",
   "id": "93630629",
   "metadata": {},
   "source": [
    "<h3>Question 4)</h3>\n",
    "\n",
    "Write a program in python to separate odd and even integers in separate arrays. Go\n",
    "to the editor"
   ]
  },
  {
   "cell_type": "code",
   "execution_count": 4,
   "id": "cecdea94",
   "metadata": {},
   "outputs": [
    {
     "name": "stdout",
     "output_type": "stream",
     "text": [
      "Input the number of elements to be stored in the array : 5\n",
      "Input the 5 elements in the array : \n",
      "10\n",
      "12\n",
      "17\n",
      "5\n",
      "3\n",
      "The Even elements are:  [10, 12]\n",
      "The Odd elements are:  [17, 5, 3]\n"
     ]
    }
   ],
   "source": [
    "def splitevenodd(A): \n",
    "   evenlist = [] \n",
    "   oddlist = [] \n",
    "   for i in A: \n",
    "      if (i % 2 == 0): \n",
    "         evenlist.append(i) \n",
    "      else: \n",
    "         oddlist.append(i) \n",
    "   print(\"The Even elements are: \", evenlist) \n",
    "   print(\"The Odd elements are: \", oddlist) \n",
    "  \n",
    "# Driver Code \n",
    "A=list()\n",
    "n=int(input(\"Input the number of elements to be stored in the array : \"))\n",
    "print(\"Input the \"+str(n)+\" elements in the array : \")\n",
    "for i in range(int(n)):\n",
    "   k=int(input(\"\"))\n",
    "   A.append(k)\n",
    "splitevenodd(A) "
   ]
  },
  {
   "cell_type": "markdown",
   "id": "c702f6ea",
   "metadata": {},
   "source": [
    "<h3>Question 5)</h3>\n",
    "\n",
    "Write a function inside(x,y,x1,y1,x2,y2) that returns True or False depending on whether the point (x,y) lies in the rectangle with lower left corner (x1,y1) and upper right corner (x2,y2)."
   ]
  },
  {
   "cell_type": "code",
   "execution_count": 5,
   "id": "8731600b",
   "metadata": {},
   "outputs": [
    {
     "name": "stdout",
     "output_type": "stream",
     "text": [
      "Enter x1: 2\n",
      "Enter y1: 3\n",
      "Enter x2: 4\n",
      "Enter y2: 5\n",
      "Enter x: 1\n",
      "Enter y: 1\n",
      "False\n"
     ]
    }
   ],
   "source": [
    "def inside(x1, y1, x2, y2, x, y):\n",
    "    {\n",
    "        print(result)\n",
    "    }\n",
    "\n",
    "\n",
    "x1 = float(input(\"Enter x1: \"))\n",
    "y1 = float(input(\"Enter y1: \"))\n",
    "x2 = float(input(\"Enter x2: \"))\n",
    "y2 = float(input(\"Enter y2: \"))\n",
    "x = float(input(\"Enter x: \"))\n",
    "y = float(input(\"Enter y: \"))\n",
    " \n",
    "result = (x >= x1 and x <= x2 and y >= y1 and y <= y2)\n",
    "inside(x1, y1, x2, y2, x, y);\n",
    "\n"
   ]
  },
  {
   "cell_type": "markdown",
   "id": "28008bab",
   "metadata": {},
   "source": [
    "Use function inside() from part a. to write an expression that tests whether\n",
    "the point (1,1) lies in both of the following rectangles: one with lower left\n",
    "corner (0.3, 0.5) and upper right corner (1.1, 0.7) and the other with lower\n",
    "left corner (0.5, 0.2) and upper right corner (1.1, 2)."
   ]
  },
  {
   "cell_type": "code",
   "execution_count": 6,
   "id": "4a1805df",
   "metadata": {},
   "outputs": [
    {
     "name": "stdout",
     "output_type": "stream",
     "text": [
      "False\n"
     ]
    }
   ],
   "source": [
    "def inside(x1, y1, x2, y2, x, y):\n",
    "    {\n",
    "        print(result)\n",
    "    }\n",
    "\n",
    "\n",
    "x1 = 0.3\n",
    "y1 = 0.5\n",
    "x2 = 1.1\n",
    "y2 = 0.7\n",
    "x = 1\n",
    "y = 1\n",
    " \n",
    "result = (x >= x1 and x <= x2 and y >= y1 and y <= y2)\n",
    "inside(x1, y1, x2, y2, x, y);"
   ]
  },
  {
   "cell_type": "code",
   "execution_count": 7,
   "id": "ac1a0974",
   "metadata": {},
   "outputs": [
    {
     "name": "stdout",
     "output_type": "stream",
     "text": [
      "True\n"
     ]
    }
   ],
   "source": [
    "def inside(x1, y1, x2, y2, x, y):\n",
    "    {\n",
    "        print(result)\n",
    "    }\n",
    "\n",
    "\n",
    "x1 = 0.5\n",
    "y1 = 0.2\n",
    "x2 = 1.1\n",
    "y2 = 2\n",
    "x = 1\n",
    "y = 1\n",
    " \n",
    "result = (x >= x1 and x <= x2 and y >= y1 and y <= y2)\n",
    "inside(x1, y1, x2, y2, x, y);"
   ]
  },
  {
   "cell_type": "markdown",
   "id": "41acfa7a",
   "metadata": {},
   "source": [
    "<h3>Question 6)</h3>\n",
    "\n",
    "You can turn a word into pig-Latin using the following two rules (simplified):\n",
    "\n",
    "• If the word starts with a consonant, move that letter to the end and append\n",
    "'ay'. For example, 'happy' becomes 'appyhay' and 'pencil' becomes 'encilpay'.\n",
    "\n",
    "• If the word starts with a vowel, simply append 'way' to the end of the word.\n",
    "For example, 'enter' becomes 'enterway' and 'other' becomes 'otherway' . For\n",
    "our purposes, there are 5 vowels: a, e, i, o, u (so we count y as a consonant).\n",
    "Write a function pig() that takes a word (i.e., a string) as input and returns its pigLatin form. Your function should still work if the input word contains upper case\n",
    "Your output should always be lower case however. "
   ]
  },
  {
   "cell_type": "code",
   "execution_count": 8,
   "id": "564103c1",
   "metadata": {},
   "outputs": [
    {
     "name": "stdout",
     "output_type": "stream",
     "text": [
      "Enter the word: Pravneet\n",
      "['avneetPray']\n"
     ]
    }
   ],
   "source": [
    "def pig(word):\n",
    "    {\n",
    "        print(latin_word)\n",
    "    }\n",
    "\n",
    "\n",
    "word= input('Enter the word: ')\n",
    "latin_word = []\n",
    "\n",
    "vowels = ['a','e','i','o','u','A','E','I','O','U']\n",
    "has_vowel = False\n",
    "for i in range(len(word)):\n",
    "        \n",
    "        if word[0] in vowels:\n",
    "            latin_word.append(word + \"yay\")\n",
    "            break\n",
    "        else:\n",
    "            \n",
    "            if word[i] in vowels:\n",
    "                latin_word.append(word[i:] + word[:i] + \"ay\")\n",
    "                has_vowel = True\n",
    "                break\n",
    "            if(has_vowel == False and i == len(word)-1):\n",
    "                latin_words.append(word + \"ay\")\n",
    "                break    \n",
    "pig(word)"
   ]
  },
  {
   "cell_type": "markdown",
   "id": "3b4334cf",
   "metadata": {},
   "source": [
    "<h3>Question 7)</h3>\n",
    "\n",
    "File bloodtype1.txt records blood-types of patients (A, B, AB, O or OO) at a clinic.\n",
    "Write a function bldcount() that reads the file with name name and reports (i.e.,\n",
    "prints) how many patients there are in each bloodtype.\n",
    "\n",
    " "
   ]
  },
  {
   "cell_type": "code",
   "execution_count": 9,
   "id": "6e7e6593",
   "metadata": {},
   "outputs": [
    {
     "name": "stdout",
     "output_type": "stream",
     "text": [
      "There are 15 patients of blood type A.\n",
      "There are 14 patients of blood type b.\n",
      "There are 13 patients of blood type ab.\n",
      "There are 15 patients of blood type O.\n",
      "There are 0 patients of blood type OO.\n"
     ]
    }
   ],
   "source": [
    "with open(\"bloodtype1.txt\", \"r\") as f:\n",
    "    lines = f.read()\n",
    "a= lines.count('A ')\n",
    "b= lines.count('B ')\n",
    "ab= lines.count('AB ')\n",
    "o= lines.count('O ')\n",
    "oo= lines.count('OO ')\n",
    "\n",
    "print('There are '+str(a)+' patients of blood type A.')\n",
    "print('There are '+str(b)+' patients of blood type b.')\n",
    "print('There are '+str(ab)+' patients of blood type ab.')\n",
    "print('There are '+str(o)+' patients of blood type O.')\n",
    "print('There are '+str(oo)+' patients of blood type OO.')"
   ]
  },
  {
   "cell_type": "markdown",
   "id": "d1f1ce58",
   "metadata": {},
   "source": [
    "<h3>Question 8)</h3>\n",
    "\n",
    "Write a function curconv() that takes as input:  1. a currency represented using a string (e.g., 'JPY' for the Japanese Yen or 'EUR' for the Euro) 2. an amount  and then converts and returns the amount in US dollars."
   ]
  },
  {
   "cell_type": "code",
   "execution_count": 10,
   "id": "a8ee84bf",
   "metadata": {},
   "outputs": [
    {
     "name": "stdout",
     "output_type": "stream",
     "text": [
      "The currency conversion table is as follows:\n",
      "AUD\t1.0345157\tAustralian Dollar\n",
      "CHF\t1.0237414\tSwiss Franc\n",
      "CNY\t0.1550176\tChinese Yuan\n",
      "DKK\t0.1651442\tDanish Krone\n",
      "EUR\t1.2296544\tEuro\n",
      "GBP\t1.5550989\tBritish Pound\n",
      "HKD\t0.1270207\tHong Kong Dollar\n",
      "INR\t0.0177643\tIndian Rupee\n",
      "JPY\t0.01241401\tJapanese Yen\n",
      "MXN\t0.0751848\tMexican Peso\n",
      "MYR\t0.3145411\tMalaysian Ringgit\n",
      "NOK\t0.1677063\tNorwegian Krone\n",
      "NZD\t0.8003591\tNew Zealand Dollar\n",
      "PHP\t0.0233234\tPhilippine Peso\n",
      "SEK\t0.148269\tSwedish Krona\n",
      "SGD\t0.788871\tSingapore Dollar\n",
      "THB\t0.0313789\tThai Baht\n",
      "Enter the Currency in its 3 letter short form above: NZD\n",
      "Enter the amount: 100\n",
      "80.03591\n"
     ]
    }
   ],
   "source": [
    "f = open(\"currencies.txt\", \"r\")\n",
    "print(\"The currency conversion table is as follows:\")\n",
    "print(f.read())\n",
    "\n",
    "Curr= input('Enter the Currency in its 3 letter short form above: ')\n",
    "amt= float(input('Enter the amount: '))\n",
    "\n",
    "if Curr =='AUD':\n",
    "    usd=amt*1.0345157\n",
    "    print(usd)\n",
    "elif Curr =='CHF':\n",
    "    usd=amt*1.0237414\n",
    "    print(usd)\n",
    "elif Curr =='CNY':\n",
    "    usd=amt*0.1550176\n",
    "    print(usd)\n",
    "elif Curr =='DKK':\n",
    "    usd=amt*0.1651442\n",
    "    print(usd)\n",
    "elif Curr =='EUR':\n",
    "    usd=amt*1.2296544\n",
    "    print(usd)\n",
    "elif Curr =='GBP':\n",
    "    usd=amt*1.5550989\n",
    "    print(usd)\n",
    "elif Curr =='HKD':\n",
    "    usd=amt*0.1270207\n",
    "    print(usd)\n",
    "elif Curr =='INR':\n",
    "    usd=amt*0.0177643\n",
    "    print(usd)\n",
    "elif Curr =='JPY':\n",
    "    usd=amt*0.01241401\n",
    "    print(usd)\n",
    "elif Curr =='MXN':\n",
    "    usd=amt*0.0751848\n",
    "    print(usd)\n",
    "elif Curr =='MYR':\n",
    "    usd=amt*0.3145411\n",
    "    print(usd)\n",
    "elif Curr =='NOK':\n",
    "    usd=amt*0.1677063\n",
    "    print(usd)\n",
    "elif Curr =='NZD':\n",
    "    usd=amt*0.8003591\n",
    "    print(usd)\n",
    "elif Curr =='PHP':\n",
    "    usd=amt*0.0233234\n",
    "    print(usd)\n",
    "elif Curr =='SEK':\n",
    "    usd=amt*0.148269\n",
    "    print(usd)\n",
    "elif Curr =='SGD':\n",
    "    usd=amt*0.788871\n",
    "    print(usd)\n",
    "elif Curr =='THB':\n",
    "    usd=amt*0.0313789\n",
    "    print(usd)"
   ]
  },
  {
   "cell_type": "markdown",
   "id": "e8754b93",
   "metadata": {},
   "source": [
    "<h3>Question 9)</h3>\n",
    "\n",
    "Each of the following will cause an exception (an error). Identify what type of exception each will cause."
   ]
  },
  {
   "cell_type": "markdown",
   "id": "4a50ecea",
   "metadata": {},
   "source": [
    "- Trying to add incompatible variables, as in adding 6 + ‘a’  \n",
    "\n",
    "- Referring to the 12th item of a list that has only 10 items  \n",
    "\n",
    "- Using a value that is out of range for a function’s input, such as calling math.sqrt(-1.0)   \n",
    "\n",
    "- Using an undeclared variable, such as print(x) when x has not been defined   \n",
    "\n",
    "- Trying to open a file that does not exist, such as mistyping the file name or looking in the wrong directory.  "
   ]
  },
  {
   "cell_type": "markdown",
   "id": "16054cf3",
   "metadata": {},
   "source": [
    "<b>Answers)</b>"
   ]
  },
  {
   "cell_type": "markdown",
   "id": "3d220556",
   "metadata": {},
   "source": [
    "<b>1st part</b>"
   ]
  },
  {
   "cell_type": "code",
   "execution_count": 11,
   "id": "0174d94f",
   "metadata": {},
   "outputs": [
    {
     "ename": "TypeError",
     "evalue": "unsupported operand type(s) for +: 'int' and 'str'",
     "output_type": "error",
     "traceback": [
      "\u001b[1;31m---------------------------------------------------------------------------\u001b[0m",
      "\u001b[1;31mTypeError\u001b[0m                                 Traceback (most recent call last)",
      "Cell \u001b[1;32mIn[11], line 1\u001b[0m\n\u001b[1;32m----> 1\u001b[0m \u001b[38;5;28mprint\u001b[39m(\u001b[38;5;241;43m6\u001b[39;49m\u001b[43m \u001b[49m\u001b[38;5;241;43m+\u001b[39;49m\u001b[43m \u001b[49m\u001b[38;5;124;43m'\u001b[39;49m\u001b[38;5;124;43ma\u001b[39;49m\u001b[38;5;124;43m'\u001b[39;49m)\n",
      "\u001b[1;31mTypeError\u001b[0m: unsupported operand type(s) for +: 'int' and 'str'"
     ]
    }
   ],
   "source": [
    "print(6 + 'a')"
   ]
  },
  {
   "cell_type": "markdown",
   "id": "ac125087",
   "metadata": {},
   "source": [
    "When you try to subtract a string for an integer or vice versa, Python does not know what to do. This is because you cannot subtract string values.\n",
    "\n",
    "Similarly, you cannot add a string to an integer or divide a string by an integer. These operations all return an “unsupported operand type(s)” error\n",
    "\n",
    "The “TypeError: unsupported operand type(s) for -: ‘str’ and ‘int’” error is raised when you try to subtract a string from an integer.\n",
    "\n",
    "You solve this error by converting all strings to integers using the int() method before performing a mathematical operation.\n"
   ]
  },
  {
   "cell_type": "markdown",
   "id": "20975fd7",
   "metadata": {},
   "source": [
    "<b>2nd part</b>"
   ]
  },
  {
   "cell_type": "code",
   "execution_count": 12,
   "id": "c178f443",
   "metadata": {},
   "outputs": [
    {
     "name": "stdout",
     "output_type": "stream",
     "text": [
      "The 10th item is:  9\n"
     ]
    }
   ],
   "source": [
    "a = [0,1,2,3,4,5,6,7,8,9]\n",
    "\n",
    "print(\"The 10th item is: \",a[9])"
   ]
  },
  {
   "cell_type": "code",
   "execution_count": 13,
   "id": "21c08278",
   "metadata": {},
   "outputs": [
    {
     "ename": "IndexError",
     "evalue": "list index out of range",
     "output_type": "error",
     "traceback": [
      "\u001b[1;31m---------------------------------------------------------------------------\u001b[0m",
      "\u001b[1;31mIndexError\u001b[0m                                Traceback (most recent call last)",
      "Cell \u001b[1;32mIn[13], line 1\u001b[0m\n\u001b[1;32m----> 1\u001b[0m \u001b[38;5;28mprint\u001b[39m(\u001b[38;5;124m\"\u001b[39m\u001b[38;5;124mThe 12th item is: \u001b[39m\u001b[38;5;124m\"\u001b[39m,\u001b[43ma\u001b[49m\u001b[43m[\u001b[49m\u001b[38;5;241;43m11\u001b[39;49m\u001b[43m]\u001b[49m)\n",
      "\u001b[1;31mIndexError\u001b[0m: list index out of range"
     ]
    }
   ],
   "source": [
    "print(\"The 12th item is: \",a[11])"
   ]
  },
  {
   "cell_type": "markdown",
   "id": "6fb6586e",
   "metadata": {},
   "source": [
    "You'll get the error: list index out of range error when you try and access an item using a value that is out of the index range of the list and does not exist.\n",
    "\n",
    "This occurs when you try to access the last item of a list, or the first one if you're using negative indexing.\n",
    "\n",
    "Generally, the index range of a list is 0 to n-1, with n being the total number of values in the list.\n",
    "\n",
    "With the total values of the list above being 10, the index range is 0 to 9.\n",
    "\n",
    "We wont be able to access the 12th item as it doesn't exist."
   ]
  },
  {
   "cell_type": "markdown",
   "id": "b2960347",
   "metadata": {},
   "source": [
    "<b>3rd part</b>"
   ]
  },
  {
   "cell_type": "code",
   "execution_count": 14,
   "id": "35cb9a4e",
   "metadata": {},
   "outputs": [
    {
     "name": "stdout",
     "output_type": "stream",
     "text": [
      "2.0\n"
     ]
    }
   ],
   "source": [
    "import math\n",
    "def sqrt(x):\n",
    "    {\n",
    "        print(math.sqrt(x))\n",
    "    }\n",
    "\n",
    "sqrt(4)"
   ]
  },
  {
   "cell_type": "code",
   "execution_count": 15,
   "id": "a2e95e26",
   "metadata": {},
   "outputs": [
    {
     "ename": "ValueError",
     "evalue": "math domain error",
     "output_type": "error",
     "traceback": [
      "\u001b[1;31m---------------------------------------------------------------------------\u001b[0m",
      "\u001b[1;31mValueError\u001b[0m                                Traceback (most recent call last)",
      "Cell \u001b[1;32mIn[15], line 1\u001b[0m\n\u001b[1;32m----> 1\u001b[0m \u001b[43msqrt\u001b[49m\u001b[43m(\u001b[49m\u001b[38;5;241;43m-\u001b[39;49m\u001b[38;5;241;43m1.0\u001b[39;49m\u001b[43m)\u001b[49m\n",
      "Cell \u001b[1;32mIn[14], line 4\u001b[0m, in \u001b[0;36msqrt\u001b[1;34m(x)\u001b[0m\n\u001b[0;32m      2\u001b[0m \u001b[38;5;28;01mdef\u001b[39;00m \u001b[38;5;21msqrt\u001b[39m(x):\n\u001b[0;32m      3\u001b[0m     {\n\u001b[1;32m----> 4\u001b[0m         \u001b[38;5;28mprint\u001b[39m(\u001b[43mmath\u001b[49m\u001b[38;5;241;43m.\u001b[39;49m\u001b[43msqrt\u001b[49m\u001b[43m(\u001b[49m\u001b[43mx\u001b[49m\u001b[43m)\u001b[49m)\n\u001b[0;32m      5\u001b[0m     }\n",
      "\u001b[1;31mValueError\u001b[0m: math domain error"
     ]
    }
   ],
   "source": [
    "sqrt(-1.0)"
   ]
  },
  {
   "cell_type": "markdown",
   "id": "d431792f",
   "metadata": {},
   "source": [
    "The math domain error message simply means that you're using a value that falls outside the accepted domain of a function.\n",
    "\n",
    "A valueError is raised when a function or operation receives a parameter with an invalid value.\n",
    "\n",
    "A domain in math is the range of all possible values a function can accept. All values that fall outside the domain are considered \"undefined\" by the function.\n",
    "\n",
    "In the code above, we're making use of the sqrt method from the math module to get the square root of a number.\n",
    "\n",
    "We're getting the \"ValueError: math domain error\" returned because -1 falls outside the range of numbers whose square root can be obtained mathematically.\n",
    "\n",
    "To fix this error, simply use an if statement to check if the number is negative before proceeding to find the square root.\n",
    "\n",
    "If the number is greater than or equal to zero, then the code can be executed. Otherwise, a message would be printed out to notify the user that a negative number can't be used."
   ]
  },
  {
   "cell_type": "markdown",
   "id": "3756fe4d",
   "metadata": {},
   "source": [
    "<b>4th part</b>"
   ]
  },
  {
   "cell_type": "code",
   "execution_count": 16,
   "id": "f68e0a96",
   "metadata": {},
   "outputs": [
    {
     "ename": "NameError",
     "evalue": "name 'abcd' is not defined",
     "output_type": "error",
     "traceback": [
      "\u001b[1;31m---------------------------------------------------------------------------\u001b[0m",
      "\u001b[1;31mNameError\u001b[0m                                 Traceback (most recent call last)",
      "Cell \u001b[1;32mIn[16], line 1\u001b[0m\n\u001b[1;32m----> 1\u001b[0m \u001b[38;5;28mprint\u001b[39m(\u001b[43mabcd\u001b[49m)\n",
      "\u001b[1;31mNameError\u001b[0m: name 'abcd' is not defined"
     ]
    }
   ],
   "source": [
    "print(abcd)"
   ]
  },
  {
   "cell_type": "markdown",
   "id": "f8b43954",
   "metadata": {},
   "source": [
    "In Python, a NameError: name 'abcd' is not defined error is raised when the program attempts to access or use a variable that has not been defined or assigned a value. This can happen if the variable is spelled incorrectly, or if it is accessed before it has been defined.\n",
    "\n",
    "A variable is not created until a value is assigned to it. If an attempt is made to use a variable before it is defined, a NameError: name 'abcd' is not defined error is thrown.\n",
    "\n",
    "The error message typically includes the name of the variable that is causing the problem and the line of code where the error occurred.\n",
    "\n",
    "To solve the NameError: name 'abcd' is not defined error in Python, you need to make sure that the variable is properly defined and assigned a value before it is used. The variable should also be referenced correctly, with the correct case and spelling."
   ]
  },
  {
   "cell_type": "markdown",
   "id": "c4782c52",
   "metadata": {},
   "source": [
    "<b>5th part</b>"
   ]
  },
  {
   "cell_type": "code",
   "execution_count": 17,
   "id": "e30077de",
   "metadata": {},
   "outputs": [
    {
     "ename": "FileNotFoundError",
     "evalue": "[Errno 2] No such file or directory: 'Pravneet.dat'",
     "output_type": "error",
     "traceback": [
      "\u001b[1;31m---------------------------------------------------------------------------\u001b[0m",
      "\u001b[1;31mFileNotFoundError\u001b[0m                         Traceback (most recent call last)",
      "Cell \u001b[1;32mIn[17], line 1\u001b[0m\n\u001b[1;32m----> 1\u001b[0m file \u001b[38;5;241m=\u001b[39m \u001b[38;5;28;43mopen\u001b[39;49m\u001b[43m(\u001b[49m\u001b[38;5;124;43m'\u001b[39;49m\u001b[38;5;124;43mPravneet.dat\u001b[39;49m\u001b[38;5;124;43m'\u001b[39;49m\u001b[43m,\u001b[49m\u001b[43m \u001b[49m\u001b[38;5;124;43m'\u001b[39;49m\u001b[38;5;124;43mr\u001b[39;49m\u001b[38;5;124;43m'\u001b[39;49m\u001b[43m)\u001b[49m\n",
      "File \u001b[1;32m~\\Documents\\Anaconda\\lib\\site-packages\\IPython\\core\\interactiveshell.py:282\u001b[0m, in \u001b[0;36m_modified_open\u001b[1;34m(file, *args, **kwargs)\u001b[0m\n\u001b[0;32m    275\u001b[0m \u001b[38;5;28;01mif\u001b[39;00m file \u001b[38;5;129;01min\u001b[39;00m {\u001b[38;5;241m0\u001b[39m, \u001b[38;5;241m1\u001b[39m, \u001b[38;5;241m2\u001b[39m}:\n\u001b[0;32m    276\u001b[0m     \u001b[38;5;28;01mraise\u001b[39;00m \u001b[38;5;167;01mValueError\u001b[39;00m(\n\u001b[0;32m    277\u001b[0m         \u001b[38;5;124mf\u001b[39m\u001b[38;5;124m\"\u001b[39m\u001b[38;5;124mIPython won\u001b[39m\u001b[38;5;124m'\u001b[39m\u001b[38;5;124mt let you open fd=\u001b[39m\u001b[38;5;132;01m{\u001b[39;00mfile\u001b[38;5;132;01m}\u001b[39;00m\u001b[38;5;124m by default \u001b[39m\u001b[38;5;124m\"\u001b[39m\n\u001b[0;32m    278\u001b[0m         \u001b[38;5;124m\"\u001b[39m\u001b[38;5;124mas it is likely to crash IPython. If you know what you are doing, \u001b[39m\u001b[38;5;124m\"\u001b[39m\n\u001b[0;32m    279\u001b[0m         \u001b[38;5;124m\"\u001b[39m\u001b[38;5;124myou can use builtins\u001b[39m\u001b[38;5;124m'\u001b[39m\u001b[38;5;124m open.\u001b[39m\u001b[38;5;124m\"\u001b[39m\n\u001b[0;32m    280\u001b[0m     )\n\u001b[1;32m--> 282\u001b[0m \u001b[38;5;28;01mreturn\u001b[39;00m io_open(file, \u001b[38;5;241m*\u001b[39margs, \u001b[38;5;241m*\u001b[39m\u001b[38;5;241m*\u001b[39mkwargs)\n",
      "\u001b[1;31mFileNotFoundError\u001b[0m: [Errno 2] No such file or directory: 'Pravneet.dat'"
     ]
    }
   ],
   "source": [
    "file = open('Pravneet.dat', 'r')"
   ]
  },
  {
   "cell_type": "markdown",
   "id": "0f28a370",
   "metadata": {},
   "source": [
    "The error FileNotFoundError Errno 2 no such file or directory occurs when Python cannot find the specified file in the current directory.\n",
    "\n",
    "This file \"Pravneet.dat\" does not exist in my system.\n",
    "\n",
    "Any non existing file, spelling error in the file name, or file located in another directory will lead to this error."
   ]
  },
  {
   "cell_type": "markdown",
   "id": "bafa4980",
   "metadata": {},
   "source": [
    "<h3>Question 10)</h3>\n",
    "\n",
    "Encryption is the process of hiding the meaning of a text by substituting letters in the message with other letters, according to some system. If the process is successful, no one but the intended recipient can understand the encrypted message. Cryptanalysis refers to attempts to undo the encryption, even if some details of the encryption are unknown (for example, if an encrypted message has been intercepted). The first step of cryptanalysis is often to build up a table of letter frequencies in the encrypted text. Assume that the string letters is already defined as 'abcdefghijklmnopqrstuvwxyz'. Write a function called frequencies() that takes a string as its only parameter, and returns a list of integers, showing the number of times each character appears in the text. Your function may ignore any characters that are not in letters."
   ]
  },
  {
   "cell_type": "code",
   "execution_count": 18,
   "id": "5c952165",
   "metadata": {},
   "outputs": [
    {
     "name": "stdout",
     "output_type": "stream",
     "text": [
      "Enter your word or sentence: pravneet\n"
     ]
    },
    {
     "data": {
      "text/plain": [
       "[1, 0, 0, 0, 2, 0, 0, 0, 0, 0, 0, 0, 0, 1, 0, 1, 0, 1, 0, 1, 0, 1, 0, 0, 0, 0]"
      ]
     },
     "execution_count": 18,
     "metadata": {},
     "output_type": "execute_result"
    }
   ],
   "source": [
    "from collections import Counter \n",
    "\n",
    "def frequencies(pass_string):\n",
    "  letters = [\"a\",\"b\",\"c\",\"d\",\"e\",\"f\",\"g\",\"h\",\"i\",\"j\",\"k\",\"l\",\"m\",\"n\",\"o\",\"p\",\"q\",\"r\",\"s\",\"t\",\"u\",\"v\",\"w\",\"x\",\"y\",\"z\"]\n",
    "  lettersupper= [x.upper() for x in letters]\n",
    "  chars_in_string = Counter(pass_string)\n",
    "  res = {}\n",
    "  for letter in letters:\n",
    "    if(letter in chars_in_string):\n",
    "      res[letter] = chars_in_string[letter]\n",
    "    else: \n",
    "      res[letter] = 0 \n",
    "  return(res)\n",
    "\n",
    "sentence=input('Enter your word or sentence: ')\n",
    "list(frequencies(sentence).values())"
   ]
  },
  {
   "cell_type": "code",
   "execution_count": null,
   "id": "481f4914",
   "metadata": {},
   "outputs": [],
   "source": []
  }
 ],
 "metadata": {
  "kernelspec": {
   "display_name": "Python 3 (ipykernel)",
   "language": "python",
   "name": "python3"
  },
  "language_info": {
   "codemirror_mode": {
    "name": "ipython",
    "version": 3
   },
   "file_extension": ".py",
   "mimetype": "text/x-python",
   "name": "python",
   "nbconvert_exporter": "python",
   "pygments_lexer": "ipython3",
   "version": "3.10.9"
  }
 },
 "nbformat": 4,
 "nbformat_minor": 5
}
